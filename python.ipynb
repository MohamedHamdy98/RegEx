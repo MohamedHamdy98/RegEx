{
 "cells": [
  {
   "cell_type": "markdown",
   "id": "7e04f0ce",
   "metadata": {},
   "source": [
    "# RegEx"
   ]
  },
  {
   "cell_type": "markdown",
   "id": "1ab7265d",
   "metadata": {},
   "source": [
    "https://www.debuggex.com/cheatsheet/regex/python"
   ]
  },
  {
   "cell_type": "markdown",
   "id": "87de6682",
   "metadata": {},
   "source": [
    "https://regex101.com/"
   ]
  },
  {
   "cell_type": "code",
   "execution_count": 109,
   "id": "a3c784df",
   "metadata": {},
   "outputs": [],
   "source": [
    "import re"
   ]
  },
  {
   "cell_type": "code",
   "execution_count": 87,
   "id": "bb55d2f6",
   "metadata": {},
   "outputs": [],
   "source": [
    "string = 'https://www.elzero.org:8080/category.php?article=105?name=how-to-do'"
   ]
  },
  {
   "cell_type": "code",
   "execution_count": 100,
   "id": "c4807abe",
   "metadata": {},
   "outputs": [],
   "source": [
    "pattern = '(https?\\:\\/{2}w{3}?\\.)+(\\w+\\.)+(\\w+\\:)+(\\d+\\/)+(.+)'"
   ]
  },
  {
   "cell_type": "markdown",
   "id": "db761ee4",
   "metadata": {},
   "source": [
    "## findall"
   ]
  },
  {
   "cell_type": "markdown",
   "id": "5776daa7",
   "metadata": {},
   "source": [
    "It will return a list of every pattern match that occurs in a given string"
   ]
  },
  {
   "cell_type": "code",
   "execution_count": 117,
   "id": "041a6e12",
   "metadata": {},
   "outputs": [
    {
     "data": {
      "text/plain": [
       "[('https://www.',\n",
       "  'elzero.',\n",
       "  'org:',\n",
       "  '8080/',\n",
       "  'category.php?article=105?name=how-to-do')]"
      ]
     },
     "execution_count": 117,
     "metadata": {},
     "output_type": "execute_result"
    }
   ],
   "source": [
    "findall = re.findall(pattern, string)\n",
    "findall"
   ]
  },
  {
   "cell_type": "markdown",
   "id": "4cd66a61",
   "metadata": {},
   "source": [
    "## search"
   ]
  },
  {
   "cell_type": "markdown",
   "id": "620c55e4",
   "metadata": {},
   "source": [
    " This method stops after the first match "
   ]
  },
  {
   "cell_type": "code",
   "execution_count": 104,
   "id": "4f6e1988",
   "metadata": {},
   "outputs": [
    {
     "data": {
      "text/plain": [
       "<re.Match object; span=(0, 67), match='https://www.elzero.org:8080/category.php?article=>"
      ]
     },
     "execution_count": 104,
     "metadata": {},
     "output_type": "execute_result"
    }
   ],
   "source": [
    "result = re.search(pattern, string)\n",
    "result"
   ]
  },
  {
   "cell_type": "code",
   "execution_count": 106,
   "id": "0a82848c",
   "metadata": {},
   "outputs": [
    {
     "data": {
      "text/plain": [
       "'https://www.elzero.org:8080/category.php?article=105?name=how-to-do'"
      ]
     },
     "execution_count": 106,
     "metadata": {},
     "output_type": "execute_result"
    }
   ],
   "source": [
    "result.group()"
   ]
  },
  {
   "cell_type": "code",
   "execution_count": 107,
   "id": "155f5113",
   "metadata": {},
   "outputs": [
    {
     "data": {
      "text/plain": [
       "('https://www.',\n",
       " 'elzero.',\n",
       " 'org:',\n",
       " '8080/',\n",
       " 'category.php?article=105?name=how-to-do')"
      ]
     },
     "execution_count": 107,
     "metadata": {},
     "output_type": "execute_result"
    }
   ],
   "source": [
    "result.groups()"
   ]
  },
  {
   "cell_type": "code",
   "execution_count": 108,
   "id": "b503eabf",
   "metadata": {},
   "outputs": [
    {
     "data": {
      "text/plain": [
       "'https://www.elzero.org:8080/category.php?article=105?name=how-to-do'"
      ]
     },
     "execution_count": 108,
     "metadata": {},
     "output_type": "execute_result"
    }
   ],
   "source": [
    "result.string"
   ]
  },
  {
   "cell_type": "code",
   "execution_count": 110,
   "id": "fee84f10",
   "metadata": {},
   "outputs": [
    {
     "data": {
      "text/plain": [
       "(0, 67)"
      ]
     },
     "execution_count": 110,
     "metadata": {},
     "output_type": "execute_result"
    }
   ],
   "source": [
    "result.span()"
   ]
  },
  {
   "cell_type": "markdown",
   "id": "27813630",
   "metadata": {},
   "source": [
    "## split"
   ]
  },
  {
   "cell_type": "code",
   "execution_count": 111,
   "id": "b9cdf419",
   "metadata": {},
   "outputs": [
    {
     "data": {
      "text/plain": [
       "['https:',\n",
       " '',\n",
       " 'www.elzero.org:8080',\n",
       " 'category.php?article=105?name=how-to-do']"
      ]
     },
     "execution_count": 111,
     "metadata": {},
     "output_type": "execute_result"
    }
   ],
   "source": [
    "re.split(r'/',string)"
   ]
  },
  {
   "cell_type": "markdown",
   "id": "a3bba60e",
   "metadata": {},
   "source": [
    "## sub"
   ]
  },
  {
   "cell_type": "code",
   "execution_count": 112,
   "id": "b5e267b6",
   "metadata": {},
   "outputs": [
    {
     "data": {
      "text/plain": [
       "'https:&&www.elzero.org:8080&category.php?article=105?name=how-to-do'"
      ]
     },
     "execution_count": 112,
     "metadata": {},
     "output_type": "execute_result"
    }
   ],
   "source": [
    "re.sub(r'/', '&', string)"
   ]
  },
  {
   "cell_type": "markdown",
   "id": "de500fa8",
   "metadata": {},
   "source": [
    "# Example to know the difference between findall and search"
   ]
  },
  {
   "cell_type": "code",
   "execution_count": 122,
   "id": "00879b4f",
   "metadata": {},
   "outputs": [],
   "source": [
    "movie_str = \"the evening shows start at 7:00pm and 10:15pm\""
   ]
  },
  {
   "cell_type": "code",
   "execution_count": 124,
   "id": "5a10f04b",
   "metadata": {},
   "outputs": [
    {
     "name": "stdout",
     "output_type": "stream",
     "text": [
      "[('7:00', 'pm'), ('10:15', 'pm')]\n"
     ]
    }
   ],
   "source": [
    "matches = re.findall(r\"([\\d:,.]+)(am|pm)?\", movie_str)\n",
    "print(matches)"
   ]
  },
  {
   "cell_type": "code",
   "execution_count": 126,
   "id": "85fe3751",
   "metadata": {},
   "outputs": [
    {
     "name": "stdout",
     "output_type": "stream",
     "text": [
      "7:00pm\n"
     ]
    }
   ],
   "source": [
    "matches = re.search(r\"([\\d:,.]+)(am|pm)?\", movie_str)\n",
    "print(matches.group())"
   ]
  }
 ],
 "metadata": {
  "kernelspec": {
   "display_name": "Python 3 (ipykernel)",
   "language": "python",
   "name": "python3"
  },
  "language_info": {
   "codemirror_mode": {
    "name": "ipython",
    "version": 3
   },
   "file_extension": ".py",
   "mimetype": "text/x-python",
   "name": "python",
   "nbconvert_exporter": "python",
   "pygments_lexer": "ipython3",
   "version": "3.8.16"
  }
 },
 "nbformat": 4,
 "nbformat_minor": 5
}
